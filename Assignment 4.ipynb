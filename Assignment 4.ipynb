{
 "cells": [
  {
   "cell_type": "markdown",
   "metadata": {},
   "source": [
    "# Assignment 4, Rosalind exercises"
   ]
  },
  {
   "cell_type": "code",
   "execution_count": null,
   "metadata": {},
   "outputs": [],
   "source": [
    "import networkx as nx\n",
    "\n",
    "import matplotlib.pyplot as plt\n",
    "import numpy as np\n",
    "\n",
    "from networkx.drawing.nx_agraph import graphviz_layout\n",
    "\n",
    "from networkx.utils import pairwise"
   ]
  },
  {
   "cell_type": "code",
   "execution_count": null,
   "metadata": {},
   "outputs": [],
   "source": [
    "from Bio import SeqIO"
   ]
  },
  {
   "cell_type": "markdown",
   "metadata": {},
   "source": [
    "# Bioinformatics Stronghold"
   ]
  },
  {
   "cell_type": "code",
   "execution_count": null,
   "metadata": {},
   "outputs": [],
   "source": [
    "#grph\n",
    "\n",
    "def grph(sequences):\n",
    "    G = nx.DiGraph()\n",
    "    for label in sequences:\n",
    "        G.add_node(label)\n",
    "\n",
    "    for label_a, seq_a in sequences.items():\n",
    "        for label_b, seq_b in sequences.items():\n",
    "            if label_a != label_b and seq_a[-3:] == seq_b[:3]:\n",
    "                G.add_edge(label_a, label_b)\n",
    "\n",
    "    for label1, label2 in list(G.edges()):\n",
    "        print(label1, label2)\n",
    "\n",
    "\n",
    "def fasta(fasta_file):\n",
    "    sequences = {}\n",
    "    for record in SeqIO.parse(fasta_file, \"fasta\"):\n",
    "        sequences[record.id] = str(record.seq)\n",
    "\n",
    "    return grph(sequences)\n",
    "\n",
    "\n",
    "file1 = \"rosalind_grph.txt\"\n",
    "print(fasta(file1))"
   ]
  },
  {
   "cell_type": "code",
   "execution_count": null,
   "metadata": {},
   "outputs": [],
   "source": [
    "#tree\n",
    "\n",
    "def tree(n, edges):\n",
    "    tree_G = nx.Graph()\n",
    "\n",
    "    tree_G.add_nodes_from(range(1, n + 1))\n",
    "    tree_G.add_edges_from(edges)\n",
    "\n",
    "    connected_components = list(nx.connected_components(tree_G))\n",
    "    components = len(connected_components)\n",
    "\n",
    "    return components - 1\n",
    "\n",
    "def final(rosalind_file):\n",
    "    with open(rosalind_file, \"r\") as file:\n",
    "        lines = file.readlines()\n",
    "        n = int(lines[0].strip())\n",
    "        edges = [tuple(map(int, line.strip().split())) for line in lines[1:]]\n",
    "\n",
    "        return tree(n, edges)\n",
    "\n",
    "\n",
    "rosalind_file = \"rosalind_tree.txt\"\n",
    "print(final(rosalind_file))"
   ]
  },
  {
   "cell_type": "code",
   "execution_count": null,
   "metadata": {},
   "outputs": [],
   "source": [
    "#long"
   ]
  },
  {
   "cell_type": "markdown",
   "metadata": {},
   "source": [
    "# Algorithmic heights"
   ]
  },
  {
   "cell_type": "code",
   "execution_count": null,
   "metadata": {},
   "outputs": [],
   "source": [
    "#deg - solve without NetX\n",
    "\n",
    "def deg(n, edges):\n",
    "    degrees = [0] * n\n",
    "\n",
    "    for u, v in edges:\n",
    "        degrees[u - 1] += 1\n",
    "        degrees[v - 1] += 1\n",
    "\n",
    "    return ' '.join(map(str, degrees))\n",
    "\n",
    "def parsing(rosalind_file):\n",
    "    rosalind_file = \"rosalind_deg.txt\"\n",
    "    with open(rosalind_file, \"r\") as file:\n",
    "        lines = file.readlines()\n",
    "        n, m = map (int, lines[0].split())\n",
    "        edges = [tuple(map(int, line.strip().split())) for line in lines[1:]]\n",
    "\n",
    "        return deg(n, edges)\n",
    "\n",
    "\n",
    "rosalind_file = \"rosalind_deg.txt\"\n",
    "print(parsing(rosalind_file))"
   ]
  },
  {
   "cell_type": "code",
   "execution_count": null,
   "metadata": {},
   "outputs": [],
   "source": [
    "#ddeg - solve without NetX\n",
    "\n",
    "def ddeg(n, edges):\n",
    "    adj_list = {}\n",
    "    for i in range(1, n+1):\n",
    "      adj_list[i] = []\n",
    "    degrees = [0] * (n + 1)\n",
    "\n",
    "    for u, v in edges:\n",
    "        adj_list[u].append(v)\n",
    "        adj_list[v].append(u)\n",
    "        degrees[u] += 1\n",
    "        degrees[v] += 1\n",
    "    result = []\n",
    "    sum = 0\n",
    "    for i in range(1, n + 1):\n",
    "      for v in adj_list:\n",
    "        sum += degrees[v]\n",
    "        result.append(sum)\n",
    "\n",
    "    return ' '.join(map(str, result))\n",
    "\n",
    "\n",
    "def parsing(rosalind_file):\n",
    "    with open(rosalind_file, \"r\") as file:\n",
    "        lines = file.readlines()\n",
    "        n, m = map(int,lines[0].split())\n",
    "        edges = [tuple(map(int, line.strip().split())) for line in lines[1:]]\n",
    "\n",
    "        return ddeg(n, edges)\n",
    "\n",
    "rosalind_file = \"rosalind_ddeg.txt\"\n",
    "print(parsing(rosalind_file))"
   ]
  },
  {
   "cell_type": "code",
   "execution_count": 1,
   "metadata": {},
   "outputs": [],
   "source": [
    "#cc\n",
    "\n",
    "def cc(n, edges):\n",
    "    cc_G = nx.Graph()\n",
    "    cc_G.add_nodes_from(range(1, n + 1))\n",
    "    cc_G.add_edges_from(edges)\n",
    "\n",
    "    connected_components = list(nx.connected_components(cc_G))\n",
    "\n",
    "    return len(connected_components)\n",
    "\n",
    "def parsing(rosalind_file):\n",
    "    with open(rosalind_file, \"r\") as file:\n",
    "        lines = file.readlines()\n",
    "        n, m = map(int,lines[0].split())\n",
    "        edges = [tuple(map(int, line.strip().split())) for line in lines[1:]]\n",
    "\n",
    "        return cc(n, edges)\n",
    "\n",
    "\n",
    "rosalind_file = \"rosalind_cc.txt\"\n",
    "print(parsing(rosalind_file))"
   ]
  },
  {
   "cell_type": "code",
   "execution_count": 2,
   "metadata": {},
   "outputs": [],
   "source": [
    "#bfs\n",
    "\n",
    "def bfs(n, edges):\n",
    "  G = nx.DiGraph()\n",
    "  G.add_nodes_from(range(1, n+1))\n",
    "  G.add_edges_from(edges)\n",
    "\n",
    "  path_location = []\n",
    "  for i in G.nodes:\n",
    "    try:\n",
    "      path =  nx.dijkstra_path_length(G, 1, i)\n",
    "      path_location.append(path)\n",
    "    except nx.NetworkXNoPath:\n",
    "      path_location.append(-1)\n",
    "\n",
    "  return path_location\n",
    "\n",
    "\n",
    "def parsing(rosalind_file):\n",
    "  with open(rosalind_file, \"r\") as file:\n",
    "    lines = file.readlines()\n",
    "    n, m = map(int, lines[0].split())\n",
    "    edges = [tuple(map(int, line.strip().split())) for line in lines [1:]]\n",
    "\n",
    "    return bfs(n, edges)\n",
    "\n",
    "rosalind_file = \"rosalind_bfs.txt\"\n",
    "final = parsing(rosalind_file)\n",
    "print(' '.join(map(str,final)))"
   ]
  },
  {
   "cell_type": "code",
   "execution_count": 3,
   "metadata": {},
   "outputs": [],
   "source": [
    "#dij\n",
    "\n",
    "def bfs(n, edges):\n",
    "  G = nx.DiGraph()\n",
    "  G.add_nodes_from(range(1, n+1))\n",
    "  G.add_weighted_edges_from(edges)\n",
    "\n",
    "  path_location = []\n",
    "  for i in G.nodes:\n",
    "    try:\n",
    "      path =  nx.dijkstra_path_length(G, 1, i)\n",
    "      path_location.append(path)\n",
    "    except nx.NetworkXNoPath:\n",
    "      path_location.append(-1)\n",
    "\n",
    "  return path_location\n",
    "\n",
    "\n",
    "def parsing(rosalind_file):\n",
    "  with open(rosalind_file, \"r\") as file:\n",
    "    lines = file.readlines()\n",
    "    n, m = map(int, lines[0].split())\n",
    "    edges = [tuple(map(int, line.strip().split())) for line in lines [1:]]\n",
    "\n",
    "    return bfs(n, edges)\n",
    "\n",
    "rosalind_file = \"rosalind_dij.txt\"\n",
    "final = parsing(rosalind_file)\n",
    "print(' '.join(map(str,final)))"
   ]
  },
  {
   "cell_type": "code",
   "execution_count": 4,
   "metadata": {},
   "outputs": [],
   "source": [
    "#dag\n",
    "\n",
    "def dag(edges_list):\n",
    "    cyclicity = []\n",
    "    for edges in edges_list:\n",
    "        G = nx.DiGraph()\n",
    "        G.add_edges_from(edges)\n",
    "\n",
    "        if nx.is_directed_acyclic_graph(G):\n",
    "            cyclicity.append(\"1\")\n",
    "        else:\n",
    "            cyclicity.append(\"-1\")\n",
    "\n",
    "    return \" \".join(cyclicity)\n",
    "\n",
    "\n",
    "def parsing(rosalind_file):\n",
    "    with open(rosalind_file, \"r\") as file:\n",
    "        lines = [line.strip() for line in file if line.strip()]\n",
    "\n",
    "    k = int(lines[0])\n",
    "    edges_list = []\n",
    "    index = 1\n",
    "\n",
    "    for x in range(k):\n",
    "        n, m = map(int, lines[index].split())\n",
    "        edges = [tuple(map(int, lines[index + i + 1].split())) for i in range(m)]\n",
    "        edges_list.append(edges)\n",
    "        index += m + 1\n",
    "\n",
    "    return dag(edges_list)\n",
    "\n",
    "\n",
    "rosalind_file = \"rosalind_dag.txt\"\n",
    "print(parsing(rosalind_file))"
   ]
  },
  {
   "cell_type": "code",
   "execution_count": 5,
   "metadata": {},
   "outputs": [],
   "source": [
    "#bip\n",
    "\n",
    "def bip(edges_list):\n",
    "    bipart = []\n",
    "    for edges in edges_list:\n",
    "        G = nx.DiGraph()\n",
    "        G.add_edges_from(edges)\n",
    "\n",
    "        if nx.is_bipartite(G):\n",
    "            bipart.append(\"1\")\n",
    "        else:\n",
    "            bipart.append(\"-1\")\n",
    "\n",
    "    return \" \".join(bipart)\n",
    "\n",
    "\n",
    "def parsing(rosalind_file):\n",
    "  with open(rosalind_file, \"r\") as file:\n",
    "    lines = [line.strip() for line in file if line.strip()]\n",
    "    k = int(lines[0])\n",
    "    index = 1\n",
    "    edges_list = []\n",
    "\n",
    "    for x in range(k):\n",
    "        n, m = map(int, lines[index].split())\n",
    "        index += 1\n",
    "        edges = [tuple(map(int, lines[index + i].split())) for i in range(m)]\n",
    "        index += m\n",
    "        edges_list.append(edges)\n",
    "\n",
    "    return bip(edges_list)\n",
    "\n",
    "rosalind_file = \"rosalind_bip.txt\"\n",
    "print(parsing(rosalind_file))"
   ]
  },
  {
   "cell_type": "code",
   "execution_count": 6,
   "metadata": {},
   "outputs": [],
   "source": [
    "#bf"
   ]
  },
  {
   "cell_type": "code",
   "execution_count": 7,
   "metadata": {},
   "outputs": [],
   "source": [
    "#cte"
   ]
  },
  {
   "cell_type": "code",
   "execution_count": 8,
   "metadata": {},
   "outputs": [],
   "source": [
    "#bip"
   ]
  },
  {
   "cell_type": "code",
   "execution_count": 9,
   "metadata": {},
   "outputs": [],
   "source": [
    "#nwc"
   ]
  },
  {
   "cell_type": "code",
   "execution_count": null,
   "metadata": {},
   "outputs": [],
   "source": [
    "#sdag"
   ]
  }
 ],
 "metadata": {
  "kernelspec": {
   "display_name": "Python 3 (ipykernel)",
   "language": "python",
   "name": "python3"
  },
  "language_info": {
   "codemirror_mode": {
    "name": "ipython",
    "version": 3
   },
   "file_extension": ".py",
   "mimetype": "text/x-python",
   "name": "python",
   "nbconvert_exporter": "python",
   "pygments_lexer": "ipython3",
   "version": "3.11.0"
  }
 },
 "nbformat": 4,
 "nbformat_minor": 4
}
